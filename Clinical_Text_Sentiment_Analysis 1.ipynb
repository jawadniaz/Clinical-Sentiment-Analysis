{
  "nbformat": 4,
  "nbformat_minor": 0,
  "metadata": {
    "colab": {
      "provenance": []
    },
    "kernelspec": {
      "name": "python3",
      "display_name": "Python 3"
    },
    "language_info": {
      "name": "python"
    }
  },
  "cells": [
    {
      "cell_type": "markdown",
      "source": [
        "Import Libraries"
      ],
      "metadata": {
        "id": "mqF0b3QCxKXD"
      }
    },
    {
      "cell_type": "code",
      "source": [
        "import pandas as pd\n",
        "import numpy as np\n",
        "import matplotlib.pyplot as plt\n",
        "import seaborn as sns\n",
        "from sklearn.model_selection import train_test_split, GridSearchCV\n",
        "from sklearn.ensemble import RandomForestClassifier, GradientBoostingClassifier\n",
        "from sklearn.metrics import classification_report, accuracy_score, confusion_matrix, ConfusionMatrixDisplay\n",
        "from sklearn.preprocessing import LabelEncoder, StandardScaler\n",
        "from imblearn.over_sampling import SMOTE\n",
        "from sklearn.pipeline import Pipeline\n",
        "from sklearn.linear_model import LogisticRegression\n",
        "from sklearn.svm import SVC\n",
        "from sklearn.ensemble import VotingClassifier"
      ],
      "metadata": {
        "id": "aDcpGfRjxQtn"
      },
      "execution_count": 8,
      "outputs": []
    },
    {
      "cell_type": "markdown",
      "source": [
        "Load and Explore the Data"
      ],
      "metadata": {
        "id": "nMwmWf9Fxd0a"
      }
    },
    {
      "cell_type": "code",
      "source": [
        "# Load the dataset\n",
        "df = pd.read_csv('depression.csv')\n",
        "\n",
        "# Display first few rows and summary statistics\n",
        "print(\"First few rows of the dataset:\")\n",
        "print(df.head())\n",
        "print(\"\\nDataset Summary:\")\n",
        "print(df.describe())\n",
        "print(\"\\nMissing Values in each column:\")\n",
        "print(df.isnull().sum())\n"
      ],
      "metadata": {
        "colab": {
          "base_uri": "https://localhost:8080/"
        },
        "id": "o9t7yNTXxgsq",
        "outputId": "220a6056-2b16-4405-f076-99b1d4639e36"
      },
      "execution_count": 9,
      "outputs": [
        {
          "output_type": "stream",
          "name": "stdout",
          "text": [
            "First few rows of the dataset:\n",
            "        Age  Gender Occupation        Days_Indoors Growing_Stress  \\\n",
            "0     20-25  Female  Corporate           1-14 days            Yes   \n",
            "1  30-Above    Male     Others          31-60 days            Yes   \n",
            "2  30-Above  Female    Student    Go out Every day             No   \n",
            "3     25-30    Male     Others           1-14 days            Yes   \n",
            "4     16-20  Female    Student  More than 2 months            Yes   \n",
            "\n",
            "  Quarantine_Frustrations Changes_Habits Mental_Health_History Weight_Change  \\\n",
            "0                     Yes             No                   Yes           Yes   \n",
            "1                     Yes          Maybe                    No            No   \n",
            "2                      No            Yes                    No            No   \n",
            "3                      No          Maybe                    No         Maybe   \n",
            "4                     Yes            Yes                    No           Yes   \n",
            "\n",
            "  Mood_Swings Coping_Struggles Work_Interest Social_Weakness  \n",
            "0      Medium               No            No             Yes  \n",
            "1        High               No            No             Yes  \n",
            "2      Medium              Yes         Maybe              No  \n",
            "3      Medium               No         Maybe             Yes  \n",
            "4      Medium              Yes         Maybe              No  \n",
            "\n",
            "Dataset Summary:\n",
            "             Age  Gender Occupation Days_Indoors Growing_Stress  \\\n",
            "count        824     824        824          824            824   \n",
            "unique         4       2          5            5              3   \n",
            "top     30-Above  Female  Housewife   31-60 days            Yes   \n",
            "freq         222     434        185          171            301   \n",
            "\n",
            "       Quarantine_Frustrations Changes_Habits Mental_Health_History  \\\n",
            "count                      824            824                   824   \n",
            "unique                       3              3                     3   \n",
            "top                        Yes            Yes                    No   \n",
            "freq                       304            305                   284   \n",
            "\n",
            "       Weight_Change Mood_Swings Coping_Struggles Work_Interest  \\\n",
            "count            824         824              824           824   \n",
            "unique             3           3                2             3   \n",
            "top            Maybe      Medium               No            No   \n",
            "freq             281         280              414           295   \n",
            "\n",
            "       Social_Weakness  \n",
            "count              824  \n",
            "unique               3  \n",
            "top              Maybe  \n",
            "freq               287  \n",
            "\n",
            "Missing Values in each column:\n",
            "Age                        0\n",
            "Gender                     0\n",
            "Occupation                 0\n",
            "Days_Indoors               0\n",
            "Growing_Stress             0\n",
            "Quarantine_Frustrations    0\n",
            "Changes_Habits             0\n",
            "Mental_Health_History      0\n",
            "Weight_Change              0\n",
            "Mood_Swings                0\n",
            "Coping_Struggles           0\n",
            "Work_Interest              0\n",
            "Social_Weakness            0\n",
            "dtype: int64\n"
          ]
        }
      ]
    },
    {
      "cell_type": "markdown",
      "source": [
        "Data Preprocessing"
      ],
      "metadata": {
        "id": "Tg802bzPxl7i"
      }
    },
    {
      "cell_type": "code",
      "source": [
        "df = df.ffill()\n",
        "\n",
        "# Encode categorical features\n",
        "categorical_cols = ['Age', 'Gender', 'Occupation', 'Days_Indoors',\n",
        "                    'Growing_Stress', 'Quarantine_Frustrations', 'Changes_Habits',\n",
        "                    'Mental_Health_History', 'Weight_Change', 'Mood_Swings',\n",
        "                    'Coping_Struggles', 'Work_Interest', 'Social_Weakness']\n",
        "\n",
        "le = LabelEncoder()\n",
        "for col in categorical_cols:\n",
        "    df[col] = le.fit_transform(df[col])\n",
        "\n",
        "# Split features and target variable\n",
        "X = df.drop('Growing_Stress', axis=1)  # Using 'Growing_Stress' as the target variable\n",
        "y = df['Growing_Stress']\n",
        "\n",
        "# Scale features\n",
        "scaler = StandardScaler()\n",
        "X_scaled = scaler.fit_transform(X)\n"
      ],
      "metadata": {
        "id": "6lwiJ_-pyVx6"
      },
      "execution_count": 12,
      "outputs": []
    },
    {
      "cell_type": "markdown",
      "source": [
        "Address Class Imbalance with SMOTE\n"
      ],
      "metadata": {
        "id": "nUGCFElcyZLP"
      }
    },
    {
      "cell_type": "code",
      "source": [
        "# Apply SMOTE to handle class imbalance\n",
        "smote = SMOTE(random_state=42)\n",
        "X_resampled, y_resampled = smote.fit_resample(X_scaled, y)\n",
        "\n",
        "# Check the new class distribution\n",
        "print(\"Class distribution after SMOTE:\")\n",
        "print(pd.Series(y_resampled).value_counts())"
      ],
      "metadata": {
        "colab": {
          "base_uri": "https://localhost:8080/"
        },
        "id": "MG3yIE0IydYe",
        "outputId": "dfc5edd5-2bb1-4eb9-b8a7-4822785941d5"
      },
      "execution_count": 13,
      "outputs": [
        {
          "output_type": "stream",
          "name": "stdout",
          "text": [
            "Class distribution after SMOTE:\n",
            "Growing_Stress\n",
            "2    301\n",
            "1    301\n",
            "0    301\n",
            "Name: count, dtype: int64\n"
          ]
        }
      ]
    },
    {
      "cell_type": "markdown",
      "source": [
        "Model Training with Hyperparameter Tuning for Random Forest"
      ],
      "metadata": {
        "id": "rUDgXbYdyhU8"
      }
    },
    {
      "cell_type": "code",
      "source": [
        "# Define parameter grid for GridSearchCV\n",
        "param_grid_rf = {\n",
        "    'n_estimators': [50, 100, 200],\n",
        "    'max_depth': [10, 20, None],\n",
        "    'min_samples_split': [2, 5, 10]\n",
        "}\n",
        "\n",
        "# Initialize Random Forest model\n",
        "rf = RandomForestClassifier(random_state=42)\n",
        "\n",
        "# Grid search for best parameters\n",
        "grid_search_rf = GridSearchCV(rf, param_grid_rf, cv=5, scoring='accuracy', n_jobs=-1)\n",
        "grid_search_rf.fit(X_resampled, y_resampled)\n",
        "\n",
        "# Print best parameters and best accuracy\n",
        "print(\"Best Parameters for Random Forest:\", grid_search_rf.best_params_)\n",
        "print(\"Best Score for Random Forest:\", grid_search_rf.best_score_)\n",
        "\n",
        "# Train the Random Forest model with best parameters\n",
        "best_rf = grid_search_rf.best_estimator_"
      ],
      "metadata": {
        "colab": {
          "base_uri": "https://localhost:8080/"
        },
        "id": "D2aRLC_-yk9J",
        "outputId": "33f11870-da25-42f0-fc23-1464d45e55e1"
      },
      "execution_count": 14,
      "outputs": [
        {
          "output_type": "stream",
          "name": "stdout",
          "text": [
            "Best Parameters for Random Forest: {'max_depth': 20, 'min_samples_split': 2, 'n_estimators': 50}\n",
            "Best Score for Random Forest: 0.45085328422344995\n"
          ]
        }
      ]
    }
  ]
}